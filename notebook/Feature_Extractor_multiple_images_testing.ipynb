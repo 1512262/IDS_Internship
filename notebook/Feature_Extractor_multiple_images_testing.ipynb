{
 "cells": [
  {
   "cell_type": "code",
   "execution_count": 1,
   "metadata": {},
   "outputs": [],
   "source": [
    "import tensorflow as tf\n",
    "import os\n",
    "import time\n",
    "import numpy as np\n",
    "import pandas as pd\n",
    "import PIL.Image as Image\n",
    "from tensorflow.keras.applications.resnet50 import preprocess_input"
   ]
  },
  {
   "cell_type": "markdown",
   "metadata": {},
   "source": [
    "Load image -> batching into 4D-Tensor -> pre-processing"
   ]
  },
  {
   "cell_type": "code",
   "execution_count": 2,
   "metadata": {},
   "outputs": [],
   "source": [
    "def load_image_into_numpy_array(image):\n",
    "    (im_width, im_height) = image.size\n",
    "    return np.array(image.getdata()).reshape((im_height, im_width, 3)).astype(np.uint8)"
   ]
  },
  {
   "cell_type": "code",
   "execution_count": 3,
   "metadata": {},
   "outputs": [],
   "source": [
    "df = pd.read_csv(\"./CV_data/fix_split_test.csv\")\n",
    "sub_df = pd.DataFrame(df.iloc[:, 5:10].values, \n",
    "                      columns=['xmin', 'ymin', 'xmax', 'ymax','id'])"
   ]
  },
  {
   "cell_type": "code",
   "execution_count": 4,
   "metadata": {},
   "outputs": [],
   "source": [
    "sub_df=sub_df.sort_values(by=['id'])\n",
    "sub_df = sub_df.reset_index(drop=True)\n",
    "sub_df = sub_df.astype('int')"
   ]
  },
  {
   "cell_type": "code",
   "execution_count": 5,
   "metadata": {},
   "outputs": [],
   "source": [
    "my_id_1 = 390369\n",
    "path_1 = './CV_data/'+str(my_id_1)+'.jpg'\n",
    "image_1 = load_image_into_numpy_array(Image.open(path_1))\n",
    "wdf_1= sub_df[sub_df['id']==my_id_1].copy()"
   ]
  },
  {
   "cell_type": "code",
   "execution_count": null,
   "metadata": {},
   "outputs": [],
   "source": [
    "my_id_2 = 4801764348\n",
    "path_2 = './CV_data/'+str(my_id_2)+'.jpg'\n",
    "image_2 = load_image_into_numpy_array(Image.open(path_2))\n",
    "wdf_2= sub_df[sub_df['id']==my_id_2].copy()"
   ]
  },
  {
   "cell_type": "code",
   "execution_count": 6,
   "metadata": {},
   "outputs": [],
   "source": [
    "batch_size =len(wdf_1)+len(wdf_2)\n",
    "hw = 224\n",
    "# hw = 331\n",
    "batch = np.zeros((batch_size,hw,hw,3))\n",
    "for i,row in wdf.iterrows():\n",
    "    img = image[row.ymin:row.ymax+1,row.xmin:row.xmax+1,:]\n",
    "    img = np.resize(img,(hw,hw,3))\n",
    "    batch[i] = img\n",
    "\n",
    "batch = preprocess_input(batch)"
   ]
  },
  {
   "cell_type": "markdown",
   "metadata": {},
   "source": [
    "Load frozen model"
   ]
  },
  {
   "cell_type": "code",
   "execution_count": 7,
   "metadata": {},
   "outputs": [],
   "source": [
    "DIR_NAME = './TF_models/'\n",
    "MODEL_NAME = 'resnet50'\n",
    "PATH_TO_FROZEN_GRAPH = DIR_NAME + MODEL_NAME + '.pb'"
   ]
  },
  {
   "cell_type": "code",
   "execution_count": 8,
   "metadata": {},
   "outputs": [],
   "source": [
    "# Load a (frozen) Tensorflow model into memory.\n",
    "detection_graph = tf.Graph()\n",
    "with detection_graph.as_default():\n",
    "    od_graph_def = tf.GraphDef()\n",
    "    with tf.gfile.GFile(PATH_TO_FROZEN_GRAPH, 'rb') as fid:\n",
    "        serialized_graph = fid.read()\n",
    "        od_graph_def.ParseFromString(serialized_graph)\n",
    "        tf.import_graph_def(od_graph_def, name='')"
   ]
  },
  {
   "cell_type": "code",
   "execution_count": 9,
   "metadata": {},
   "outputs": [],
   "source": [
    "def get_feature(batch_image, graph):\n",
    "    with graph.as_default():\n",
    "        with tf.Session() as sess:\n",
    "            # Get handles to input and output tensors\n",
    "            ops = tf.get_default_graph().get_operations()\n",
    "            tensor_dict = {}\n",
    "#             key= 'avg_pool/Mean'\n",
    "#             key= 'fc2/Relu'\n",
    "#             key= 'global_average_pooling2d_2/Mean'\n",
    "            tensor_name = key + ':0'\n",
    "            \n",
    "            tensor_dict[key] = tf.get_default_graph().get_tensor_by_name(tensor_name)\n",
    "            \n",
    "            image_tensor = tf.get_default_graph().get_tensor_by_name('input_4:0')\n",
    "            # Run inference\n",
    "            output_dict = sess.run(tensor_dict,\n",
    "                                   feed_dict={image_tensor: batch_image})\n",
    "    return output_dict"
   ]
  },
  {
   "cell_type": "code",
   "execution_count": 10,
   "metadata": {},
   "outputs": [
    {
     "name": "stdout",
     "output_type": "stream",
     "text": [
      "13.006689\n",
      "(8, 4096)\n"
     ]
    }
   ],
   "source": [
    "start = time.clock()\n",
    "output_dict = get_feature(batch, detection_graph)\n",
    "end=time.clock()\n",
    "print(end-start)\n",
    "# print(output_dict['avg_pool/Mean'].shape)\n",
    "print(output_dict['fc2/Relu'].shape)\n",
    "# print(output_dict['global_average_pooling2d_2/Mean'].shape)"
   ]
  },
  {
   "cell_type": "code",
   "execution_count": null,
   "metadata": {},
   "outputs": [],
   "source": []
  }
 ],
 "metadata": {
  "kernelspec": {
   "display_name": "Python 3",
   "language": "python",
   "name": "python3"
  },
  "language_info": {
   "codemirror_mode": {
    "name": "ipython",
    "version": 3
   },
   "file_extension": ".py",
   "mimetype": "text/x-python",
   "name": "python",
   "nbconvert_exporter": "python",
   "pygments_lexer": "ipython3",
   "version": "3.6.6"
  }
 },
 "nbformat": 4,
 "nbformat_minor": 2
}
