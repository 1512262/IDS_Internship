{
 "cells": [
  {
   "cell_type": "code",
   "execution_count": 1,
   "metadata": {},
   "outputs": [],
   "source": [
    "import numpy as np\n",
    "import pandas as pd\n",
    "from sklearn.metrics import f1_score, precision_score, recall_score\n",
    "%matplotlib inline\n",
    "import matplotlib.pyplot as plt\n",
    "import seaborn as sns\n",
    "sns.set()"
   ]
  },
  {
   "cell_type": "code",
   "execution_count": 2,
   "metadata": {},
   "outputs": [],
   "source": [
    "def lang_iou(x, y):\n",
    "    x = set(x.split('+'))\n",
    "    y = set(y.split('+'))\n",
    "    inter = x.intersection(y)\n",
    "    union = x.union(y)\n",
    "    iou = len(inter) / len(union)\n",
    "    return iou"
   ]
  },
  {
   "cell_type": "code",
   "execution_count": 3,
   "metadata": {},
   "outputs": [
    {
     "data": {
      "text/plain": [
       "(4526, 6)"
      ]
     },
     "execution_count": 3,
     "metadata": {},
     "output_type": "execute_result"
    }
   ],
   "source": [
    "data_train_link = './NLP_data/master/csv/master_test.csv'\n",
    "df_train = pd.read_csv(data_train_link,index_col=0)\n",
    "df_train.shape\n"
   ]
  },
  {
   "cell_type": "code",
   "execution_count": 4,
   "metadata": {},
   "outputs": [],
   "source": [
    "p_ious = []\n",
    "for _, row in df_train.iterrows():\n",
    "    p_iou = lang_iou(row.phrase1, row.phrase2)\n",
    "    p_ious.append(p_iou)\n",
    "\n",
    "df_train['p_ious'] = np.asarray(p_ious)\n",
    "ious = list(set(df_train.p_ious.tolist())) \n",
    "ious.sort()"
   ]
  },
  {
   "cell_type": "code",
   "execution_count": 5,
   "metadata": {},
   "outputs": [
    {
     "name": "stdout",
     "output_type": "stream",
     "text": [
      "0.0 : 79 987\n",
      "0.07142857142857142 : 1 0\n",
      "0.07692307692307693 : 1 0\n",
      "0.09090909090909091 : 4 4\n",
      "0.1 : 7 14\n",
      "0.1111111111111111 : 21 56\n",
      "0.125 : 47 136\n",
      "0.14285714285714285 : 54 308\n",
      "0.16666666666666666 : 107 381\n",
      "0.18181818181818182 : 2 0\n",
      "0.2 : 98 364\n",
      "0.2222222222222222 : 10 16\n",
      "0.25 : 77 220\n",
      "0.2857142857142857 : 65 78\n",
      "0.3 : 5 0\n",
      "0.3333333333333333 : 111 163\n",
      "0.375 : 8 9\n",
      "0.4 : 137 109\n",
      "0.42857142857142855 : 24 19\n",
      "0.4444444444444444 : 1 1\n",
      "0.5 : 228 61\n",
      "0.5714285714285714 : 8 1\n",
      "0.6 : 77 20\n",
      "0.625 : 2 0\n",
      "0.6666666666666666 : 99 12\n",
      "0.7142857142857143 : 1 1\n",
      "0.75 : 85 10\n",
      "0.8 : 20 7\n",
      "0.8333333333333334 : 5 0\n",
      "1.0 : 154 11\n"
     ]
    }
   ],
   "source": [
    "for iou in ious:\n",
    "    len_true = len(df_train[(df_train.p_ious==iou)&(df_train.ytrue==True)].ytrue.tolist())\n",
    "    len_false = len(df_train[(df_train.p_ious==iou)&(df_train.ytrue==False)].ytrue.tolist())\n",
    "    print(iou,\":\",len_true,len_false)"
   ]
  },
  {
   "cell_type": "code",
   "execution_count": 6,
   "metadata": {
    "scrolled": true
   },
   "outputs": [],
   "source": [
    "for iou in ious:\n",
    "    len_true = len(df_train[(df_train.p_ious==iou)&(df_train.ytrue==True)].ytrue.tolist())\n",
    "    len_false = len(df_train[(df_train.p_ious==iou)&(df_train.ytrue==False)].ytrue.tolist())\n",
    "    index_True= df_train[(df_train.p_ious==iou)&(df_train.ytrue==True)].index.tolist()\n",
    "    index_False = df_train[(df_train.p_ious==iou)&(df_train.ytrue==False)].index.tolist()\n",
    "    n_drop = abs(len_false-len_true)\n",
    "    flag = True\n",
    "    if(len_true>len_false):\n",
    "        index= index_True\n",
    "    else:\n",
    "        index = index_False\n",
    "        flag = False\n",
    "    \n",
    "    drop_indices = np.random.choice(index, n_drop, replace=False)\n",
    "    df_train=df_train.drop(drop_indices)\n",
    "        "
   ]
  },
  {
   "cell_type": "code",
   "execution_count": 7,
   "metadata": {},
   "outputs": [
    {
     "name": "stdout",
     "output_type": "stream",
     "text": [
      "0.0 : 79 79\n",
      "0.07142857142857142 : 0 0\n",
      "0.07692307692307693 : 0 0\n",
      "0.09090909090909091 : 4 4\n",
      "0.1 : 7 7\n",
      "0.1111111111111111 : 21 21\n",
      "0.125 : 47 47\n",
      "0.14285714285714285 : 54 54\n",
      "0.16666666666666666 : 107 107\n",
      "0.18181818181818182 : 0 0\n",
      "0.2 : 98 98\n",
      "0.2222222222222222 : 10 10\n",
      "0.25 : 77 77\n",
      "0.2857142857142857 : 65 65\n",
      "0.3 : 0 0\n",
      "0.3333333333333333 : 111 111\n",
      "0.375 : 8 8\n",
      "0.4 : 109 109\n",
      "0.42857142857142855 : 19 19\n",
      "0.4444444444444444 : 1 1\n",
      "0.5 : 61 61\n",
      "0.5714285714285714 : 1 1\n",
      "0.6 : 20 20\n",
      "0.625 : 0 0\n",
      "0.6666666666666666 : 12 12\n",
      "0.7142857142857143 : 1 1\n",
      "0.75 : 10 10\n",
      "0.8 : 7 7\n",
      "0.8333333333333334 : 0 0\n",
      "1.0 : 11 11\n"
     ]
    }
   ],
   "source": [
    "for iou in ious:\n",
    "    len_true = len(df_train[(df_train.p_ious==iou)&(df_train.ytrue==True)].ytrue.tolist())\n",
    "    len_false = len(df_train[(df_train.p_ious==iou)&(df_train.ytrue==False)].ytrue.tolist())\n",
    "    print(iou,\":\",len_true,len_false)"
   ]
  },
  {
   "cell_type": "code",
   "execution_count": 8,
   "metadata": {},
   "outputs": [
    {
     "data": {
      "text/plain": [
       "(1880, 7)"
      ]
     },
     "execution_count": 8,
     "metadata": {},
     "output_type": "execute_result"
    }
   ],
   "source": [
    "df_train.shape"
   ]
  },
  {
   "cell_type": "code",
   "execution_count": 9,
   "metadata": {},
   "outputs": [],
   "source": [
    "from sklearn.utils import shuffle\n",
    "df_train = shuffle(df_train)"
   ]
  },
  {
   "cell_type": "code",
   "execution_count": 10,
   "metadata": {},
   "outputs": [],
   "source": [
    "df_train=df_train.sort_values(by=['image'])"
   ]
  },
  {
   "cell_type": "code",
   "execution_count": 11,
   "metadata": {},
   "outputs": [],
   "source": [
    "df_train=df_train.reset_index()"
   ]
  },
  {
   "cell_type": "code",
   "execution_count": 12,
   "metadata": {},
   "outputs": [],
   "source": [
    "df_train.to_csv(\"new_master_test.csv\")"
   ]
  },
  {
   "cell_type": "code",
   "execution_count": null,
   "metadata": {},
   "outputs": [],
   "source": []
  }
 ],
 "metadata": {
  "kernelspec": {
   "display_name": "Python 3",
   "language": "python",
   "name": "python3"
  },
  "language_info": {
   "codemirror_mode": {
    "name": "ipython",
    "version": 3
   },
   "file_extension": ".py",
   "mimetype": "text/x-python",
   "name": "python",
   "nbconvert_exporter": "python",
   "pygments_lexer": "ipython3",
   "version": "3.6.6"
  }
 },
 "nbformat": 4,
 "nbformat_minor": 2
}
