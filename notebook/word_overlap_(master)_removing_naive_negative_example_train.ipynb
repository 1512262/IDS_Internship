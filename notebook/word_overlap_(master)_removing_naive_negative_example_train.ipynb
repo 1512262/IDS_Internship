{
 "cells": [
  {
   "cell_type": "code",
   "execution_count": 1,
   "metadata": {},
   "outputs": [],
   "source": [
    "import numpy as np\n",
    "import pandas as pd\n",
    "from sklearn.metrics import f1_score, precision_score, recall_score\n",
    "%matplotlib inline\n",
    "import matplotlib.pyplot as plt\n",
    "import seaborn as sns\n",
    "sns.set()"
   ]
  },
  {
   "cell_type": "code",
   "execution_count": 2,
   "metadata": {},
   "outputs": [],
   "source": [
    "def lang_iou(x, y):\n",
    "    x = set(x.split('+'))\n",
    "    y = set(y.split('+'))\n",
    "    inter = x.intersection(y)\n",
    "    union = x.union(y)\n",
    "    iou = len(inter) / len(union)\n",
    "    return iou"
   ]
  },
  {
   "cell_type": "code",
   "execution_count": 3,
   "metadata": {},
   "outputs": [
    {
     "data": {
      "text/plain": [
       "(123034, 6)"
      ]
     },
     "execution_count": 3,
     "metadata": {},
     "output_type": "execute_result"
    }
   ],
   "source": [
    "data_train_link = './NLP_data/master/csv/master_train.csv'\n",
    "df_train = pd.read_csv(data_train_link,index_col=0)\n",
    "df_train.shape\n"
   ]
  },
  {
   "cell_type": "code",
   "execution_count": 4,
   "metadata": {},
   "outputs": [],
   "source": [
    "p_ious = []\n",
    "for _, row in df_train.iterrows():\n",
    "    p_iou = lang_iou(row.phrase1, row.phrase2)\n",
    "    p_ious.append(p_iou)\n",
    "\n",
    "df_train['p_ious'] = np.asarray(p_ious)\n",
    "ious = list(set(df_train.p_ious.tolist())) \n",
    "ious.sort()"
   ]
  },
  {
   "cell_type": "code",
   "execution_count": 5,
   "metadata": {},
   "outputs": [
    {
     "name": "stdout",
     "output_type": "stream",
     "text": [
      "0.0 : 2384 27509\n",
      "0.06666666666666667 : 1 0\n",
      "0.07142857142857142 : 0 5\n",
      "0.07692307692307693 : 6 14\n",
      "0.08333333333333333 : 22 55\n",
      "0.09090909090909091 : 80 185\n",
      "0.1 : 217 591\n",
      "0.1111111111111111 : 510 1641\n",
      "0.125 : 1168 3678\n",
      "0.14285714285714285 : 1821 7084\n",
      "0.15384615384615385 : 7 5\n",
      "0.16666666666666666 : 2695 9929\n",
      "0.18181818181818182 : 52 56\n",
      "0.2 : 2731 9388\n",
      "0.21428571428571427 : 0 3\n",
      "0.2222222222222222 : 372 562\n",
      "0.23076923076923078 : 1 2\n",
      "0.25 : 2312 5370\n",
      "0.2727272727272727 : 22 13\n",
      "0.2857142857142857 : 1922 2626\n",
      "0.3 : 53 59\n",
      "0.3076923076923077 : 1 1\n",
      "0.3333333333333333 : 3874 4140\n",
      "0.35714285714285715 : 1 0\n",
      "0.36363636363636365 : 10 6\n",
      "0.375 : 448 292\n",
      "0.4 : 4207 2622\n",
      "0.42857142857142855 : 1004 453\n",
      "0.4444444444444444 : 54 44\n",
      "0.45454545454545453 : 2 4\n",
      "0.5 : 5876 1691\n",
      "0.5384615384615384 : 0 1\n",
      "0.5555555555555556 : 14 7\n",
      "0.5714285714285714 : 308 67\n",
      "0.6 : 2320 367\n",
      "0.625 : 24 14\n",
      "0.6666666666666666 : 2254 334\n",
      "0.7142857142857143 : 52 7\n",
      "0.75 : 2385 272\n",
      "0.8 : 573 55\n",
      "0.8333333333333334 : 86 4\n",
      "0.8571428571428571 : 7 0\n",
      "1.0 : 3730 272\n"
     ]
    }
   ],
   "source": [
    "for iou in ious:\n",
    "    len_true = len(df_train[(df_train.p_ious==iou)&(df_train.ytrue==True)].ytrue.tolist())\n",
    "    len_false = len(df_train[(df_train.p_ious==iou)&(df_train.ytrue==False)].ytrue.tolist())\n",
    "    print(iou,\":\",len_true,len_false)"
   ]
  },
  {
   "cell_type": "code",
   "execution_count": 6,
   "metadata": {
    "scrolled": true
   },
   "outputs": [],
   "source": [
    "for iou in ious:\n",
    "    len_true = len(df_train[(df_train.p_ious==iou)&(df_train.ytrue==True)].ytrue.tolist())\n",
    "    len_false = len(df_train[(df_train.p_ious==iou)&(df_train.ytrue==False)].ytrue.tolist())\n",
    "    index_True= df_train[(df_train.p_ious==iou)&(df_train.ytrue==True)].index.tolist()\n",
    "    index_False = df_train[(df_train.p_ious==iou)&(df_train.ytrue==False)].index.tolist()\n",
    "    n_drop = abs(len_false-len_true)\n",
    "    flag = True\n",
    "    if(len_true>len_false):\n",
    "        index= index_True\n",
    "    else:\n",
    "        index = index_False\n",
    "        flag = False\n",
    "    \n",
    "    drop_indices = np.random.choice(index, n_drop, replace=False)\n",
    "    df_train=df_train.drop(drop_indices)\n",
    "        "
   ]
  },
  {
   "cell_type": "code",
   "execution_count": 7,
   "metadata": {},
   "outputs": [
    {
     "name": "stdout",
     "output_type": "stream",
     "text": [
      "0.0 : 2384 2384\n",
      "0.06666666666666667 : 0 0\n",
      "0.07142857142857142 : 0 0\n",
      "0.07692307692307693 : 6 6\n",
      "0.08333333333333333 : 22 22\n",
      "0.09090909090909091 : 80 80\n",
      "0.1 : 217 217\n",
      "0.1111111111111111 : 510 510\n",
      "0.125 : 1168 1168\n",
      "0.14285714285714285 : 1821 1821\n",
      "0.15384615384615385 : 5 5\n",
      "0.16666666666666666 : 2695 2695\n",
      "0.18181818181818182 : 52 52\n",
      "0.2 : 2731 2731\n",
      "0.21428571428571427 : 0 0\n",
      "0.2222222222222222 : 372 372\n",
      "0.23076923076923078 : 1 1\n",
      "0.25 : 2312 2312\n",
      "0.2727272727272727 : 13 13\n",
      "0.2857142857142857 : 1922 1922\n",
      "0.3 : 53 53\n",
      "0.3076923076923077 : 1 1\n",
      "0.3333333333333333 : 3874 3874\n",
      "0.35714285714285715 : 0 0\n",
      "0.36363636363636365 : 6 6\n",
      "0.375 : 292 292\n",
      "0.4 : 2622 2622\n",
      "0.42857142857142855 : 453 453\n",
      "0.4444444444444444 : 44 44\n",
      "0.45454545454545453 : 2 2\n",
      "0.5 : 1691 1691\n",
      "0.5384615384615384 : 0 0\n",
      "0.5555555555555556 : 7 7\n",
      "0.5714285714285714 : 67 67\n",
      "0.6 : 367 367\n",
      "0.625 : 14 14\n",
      "0.6666666666666666 : 334 334\n",
      "0.7142857142857143 : 7 7\n",
      "0.75 : 272 272\n",
      "0.8 : 55 55\n",
      "0.8333333333333334 : 4 4\n",
      "0.8571428571428571 : 0 0\n",
      "1.0 : 272 272\n"
     ]
    }
   ],
   "source": [
    "for iou in ious:\n",
    "    len_true = len(df_train[(df_train.p_ious==iou)&(df_train.ytrue==True)].ytrue.tolist())\n",
    "    len_false = len(df_train[(df_train.p_ious==iou)&(df_train.ytrue==False)].ytrue.tolist())\n",
    "    print(iou,\":\",len_true,len_false)"
   ]
  },
  {
   "cell_type": "code",
   "execution_count": 13,
   "metadata": {},
   "outputs": [
    {
     "data": {
      "text/plain": [
       "(53496, 8)"
      ]
     },
     "execution_count": 13,
     "metadata": {},
     "output_type": "execute_result"
    }
   ],
   "source": [
    "df_train.shape"
   ]
  },
  {
   "cell_type": "code",
   "execution_count": 9,
   "metadata": {},
   "outputs": [],
   "source": [
    "from sklearn.utils import shuffle\n",
    "df_train = shuffle(df_train)"
   ]
  },
  {
   "cell_type": "code",
   "execution_count": 10,
   "metadata": {},
   "outputs": [],
   "source": [
    "df_train=df_train.sort_values(by=['image'])"
   ]
  },
  {
   "cell_type": "code",
   "execution_count": 11,
   "metadata": {},
   "outputs": [],
   "source": [
    "df_train=df_train.reset_index()"
   ]
  },
  {
   "cell_type": "code",
   "execution_count": 12,
   "metadata": {},
   "outputs": [],
   "source": [
    "df_train.to_csv(\"new_master_train.csv\")"
   ]
  },
  {
   "cell_type": "code",
   "execution_count": null,
   "metadata": {},
   "outputs": [],
   "source": []
  }
 ],
 "metadata": {
  "kernelspec": {
   "display_name": "Python 3",
   "language": "python",
   "name": "python3"
  },
  "language_info": {
   "codemirror_mode": {
    "name": "ipython",
    "version": 3
   },
   "file_extension": ".py",
   "mimetype": "text/x-python",
   "name": "python",
   "nbconvert_exporter": "python",
   "pygments_lexer": "ipython3",
   "version": "3.6.6"
  }
 },
 "nbformat": 4,
 "nbformat_minor": 2
}
