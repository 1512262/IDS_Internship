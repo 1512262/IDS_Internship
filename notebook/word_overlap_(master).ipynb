{
 "cells": [
  {
   "cell_type": "code",
   "execution_count": 1,
   "metadata": {},
   "outputs": [],
   "source": [
    "import numpy as np\n",
    "import pandas as pd\n",
    "from sklearn.metrics import f1_score, precision_score, recall_score\n",
    "%matplotlib inline\n",
    "import matplotlib.pyplot as plt\n",
    "import seaborn as sns\n",
    "sns.set()"
   ]
  },
  {
   "cell_type": "code",
   "execution_count": 2,
   "metadata": {},
   "outputs": [],
   "source": [
    "from sklearn.metrics import precision_recall_curve, f1_score, precision_score, recall_score"
   ]
  },
  {
   "cell_type": "code",
   "execution_count": 3,
   "metadata": {},
   "outputs": [],
   "source": [
    "def lang_iou(x, y):\n",
    "    x = set(x.split('+'))\n",
    "    y = set(y.split('+'))\n",
    "    inter = x.intersection(y)\n",
    "    union = x.union(y)\n",
    "    iou = len(inter) / len(union)\n",
    "    return iou"
   ]
  },
  {
   "cell_type": "code",
   "execution_count": 4,
   "metadata": {},
   "outputs": [],
   "source": [
    "data_train_link = './NLP_data/master_train.csv'\n",
    "data_val_link = './NLP_data/master_val.csv'\n",
    "data_test_link = './NLP_data/master_test.csv'"
   ]
  },
  {
   "cell_type": "code",
   "execution_count": 5,
   "metadata": {},
   "outputs": [],
   "source": [
    "df_train = pd.read_csv(data_train_link,index_col=0)\n",
    "df_val = pd.read_csv(data_val_link,index_col=0)\n",
    "df_test = pd.read_csv(data_test_link,index_col=0)"
   ]
  },
  {
   "cell_type": "code",
   "execution_count": 6,
   "metadata": {},
   "outputs": [
    {
     "data": {
      "text/html": [
       "<div>\n",
       "<style scoped>\n",
       "    .dataframe tbody tr th:only-of-type {\n",
       "        vertical-align: middle;\n",
       "    }\n",
       "\n",
       "    .dataframe tbody tr th {\n",
       "        vertical-align: top;\n",
       "    }\n",
       "\n",
       "    .dataframe thead th {\n",
       "        text-align: right;\n",
       "    }\n",
       "</style>\n",
       "<table border=\"1\" class=\"dataframe\">\n",
       "  <thead>\n",
       "    <tr style=\"text-align: right;\">\n",
       "      <th></th>\n",
       "      <th>phrase1</th>\n",
       "      <th>phrase2</th>\n",
       "      <th>ytrue</th>\n",
       "    </tr>\n",
       "  </thead>\n",
       "  <tbody>\n",
       "    <tr>\n",
       "      <th>0</th>\n",
       "      <td>dock+workers+straighten+ropes</td>\n",
       "      <td>workers+ropes</td>\n",
       "      <td>True</td>\n",
       "    </tr>\n",
       "    <tr>\n",
       "      <th>1</th>\n",
       "      <td>report+rain</td>\n",
       "      <td>film+rain</td>\n",
       "      <td>True</td>\n",
       "    </tr>\n",
       "    <tr>\n",
       "      <th>2</th>\n",
       "      <td>woman+wearing+gloves</td>\n",
       "      <td>blond+women+working+wearing+gloves</td>\n",
       "      <td>True</td>\n",
       "    </tr>\n",
       "    <tr>\n",
       "      <th>3</th>\n",
       "      <td>man+holding+camera</td>\n",
       "      <td>man+holding+video+camera</td>\n",
       "      <td>True</td>\n",
       "    </tr>\n",
       "    <tr>\n",
       "      <th>4</th>\n",
       "      <td>man+operating+crane</td>\n",
       "      <td>man+operating+crane</td>\n",
       "      <td>True</td>\n",
       "    </tr>\n",
       "  </tbody>\n",
       "</table>\n",
       "</div>"
      ],
      "text/plain": [
       "                         phrase1                             phrase2  ytrue\n",
       "0  dock+workers+straighten+ropes                       workers+ropes   True\n",
       "1                    report+rain                           film+rain   True\n",
       "2           woman+wearing+gloves  blond+women+working+wearing+gloves   True\n",
       "3             man+holding+camera            man+holding+video+camera   True\n",
       "4            man+operating+crane                 man+operating+crane   True"
      ]
     },
     "execution_count": 6,
     "metadata": {},
     "output_type": "execute_result"
    }
   ],
   "source": [
    "df_val[[\"phrase1\",\"phrase2\",\"ytrue\"]].head()"
   ]
  },
  {
   "cell_type": "code",
   "execution_count": 7,
   "metadata": {},
   "outputs": [],
   "source": [
    "for df in [df_val, df_test]:\n",
    "    p_ious = []\n",
    "    for _, row in df.iterrows():\n",
    "        p_iou = lang_iou(row.phrase1, row.phrase2)\n",
    "        p_ious.append(p_iou)\n",
    "\n",
    "    df['p_ious'] = np.asarray(p_ious)"
   ]
  },
  {
   "cell_type": "markdown",
   "metadata": {},
   "source": [
    "determine threshold on validation set"
   ]
  },
  {
   "cell_type": "code",
   "execution_count": 8,
   "metadata": {},
   "outputs": [
    {
     "name": "stdout",
     "output_type": "stream",
     "text": [
      "best f1: 67.43 prec: 70.98 rec: 64.22\n"
     ]
    }
   ],
   "source": [
    "prec, rec, thresh = precision_recall_curve(df_val.ytrue, df_val.p_ious)\n",
    "f1 = 2 * (prec * rec) / (prec + rec)\n",
    "best_idx = np.nanargmax(f1)\n",
    "best_thresh = thresh[best_idx]\n",
    "print('best f1: %.2f prec: %.2f rec: %.2f' % (f1[best_idx] * 100, prec[best_idx] * 100, rec[best_idx] * 100))"
   ]
  },
  {
   "cell_type": "code",
   "execution_count": 9,
   "metadata": {},
   "outputs": [
    {
     "data": {
      "text/plain": [
       "(0.0, 1.0)"
      ]
     },
     "execution_count": 9,
     "metadata": {},
     "output_type": "execute_result"
    },
    {
     "data": {
      "image/png": "[encoded data removed]",
      "text/plain": [
       "<Figure size 432x288 with 1 Axes>"
      ]
     },
     "metadata": {
      "needs_background": "light"
     },
     "output_type": "display_data"
    }
   ],
   "source": [
    "plt.step(rec, prec, color='b', alpha=0.2,\n",
    "         where='post')\n",
    "plt.fill_between(rec, prec, step='post', alpha=0.2,\n",
    "                 color='b')\n",
    "\n",
    "plt.xlabel('Recall')\n",
    "plt.ylabel('Precision')\n",
    "plt.title('Validation Dataset')\n",
    "plt.ylim([0.0, 1.05])\n",
    "plt.xlim([0.0, 1.0])"
   ]
  },
  {
   "cell_type": "markdown",
   "metadata": {},
   "source": [
    "eval test set using pre-computed threshold"
   ]
  },
  {
   "cell_type": "code",
   "execution_count": 10,
   "metadata": {},
   "outputs": [
    {
     "name": "stdout",
     "output_type": "stream",
     "text": [
      "f1: 67.10 prec: 67.23 rec: 66.97\n"
     ]
    }
   ],
   "source": [
    "pred = df_test.p_ious > best_thresh\n",
    "prec = precision_score(df_test.ytrue, pred)\n",
    "rec = recall_score(df_test.ytrue, pred)\n",
    "f1 = f1_score(df_test.ytrue, pred)\n",
    "print('f1: %.2f prec: %.2f rec: %.2f' % (f1 * 100, prec * 100, rec * 100))"
   ]
  },
  {
   "cell_type": "code",
   "execution_count": 11,
   "metadata": {},
   "outputs": [
    {
     "data": {
      "text/plain": [
       "0.2727272727272727"
      ]
     },
     "execution_count": 11,
     "metadata": {},
     "output_type": "execute_result"
    }
   ],
   "source": [
    "best_thresh"
   ]
  },
  {
   "cell_type": "code",
   "execution_count": 12,
   "metadata": {},
   "outputs": [
    {
     "data": {
      "text/plain": [
       "(0.0, 1.0)"
      ]
     },
     "execution_count": 12,
     "metadata": {},
     "output_type": "execute_result"
    },
    {
     "data": {
      "image/png": "[encoded data removed]",
      "text/plain": [
       "<Figure size 432x288 with 1 Axes>"
      ]
     },
     "metadata": {
      "needs_background": "light"
     },
     "output_type": "display_data"
    }
   ],
   "source": [
    "prec, rec, thresh = precision_recall_curve(df_test.ytrue, df_test.p_ious)\n",
    "plt.step(rec, prec, color='b', alpha=0.2,\n",
    "         where='post')\n",
    "plt.fill_between(rec, prec, step='post', alpha=0.2,\n",
    "                 color='b')\n",
    "\n",
    "plt.xlabel('Recall')\n",
    "plt.ylabel('Precision')\n",
    "plt.title('Test Dataset')\n",
    "plt.ylim([0.0, 1.05])\n",
    "plt.xlim([0.0, 1.0])"
   ]
  }
 ],
 "metadata": {
  "kernelspec": {
   "display_name": "Python 3",
   "language": "python",
   "name": "python3"
  },
  "language_info": {
   "codemirror_mode": {
    "name": "ipython",
    "version": 3
   },
   "file_extension": ".py",
   "mimetype": "text/x-python",
   "name": "python",
   "nbconvert_exporter": "python",
   "pygments_lexer": "ipython3",
   "version": "3.6.6"
  }
 },
 "nbformat": 4,
 "nbformat_minor": 2
}
