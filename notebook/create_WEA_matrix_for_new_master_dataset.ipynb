{
 "cells": [
  {
   "cell_type": "code",
   "execution_count": 1,
   "metadata": {},
   "outputs": [],
   "source": [
    "import gensim\n",
    "from gensim import utils\n",
    "import numpy as np\n",
    "import sys\n",
    "from nltk import word_tokenize\n",
    "from nltk import download\n",
    "from nltk.corpus import stopwords\n",
    "import matplotlib.pyplot as plt\n",
    "from sklearn.decomposition import PCA\n",
    "import pandas as pd\n",
    "%matplotlib inline"
   ]
  },
  {
   "cell_type": "code",
   "execution_count": 2,
   "metadata": {},
   "outputs": [],
   "source": [
    "model = gensim.models.KeyedVectors.load_word2vec_format('GoogleNews-vectors-negative300.bin.gz', binary=True)"
   ]
  },
  {
   "cell_type": "code",
   "execution_count": 4,
   "metadata": {},
   "outputs": [],
   "source": [
    "train = pd.read_csv(\"./NLP_data/new_master/csv/new_master_train.csv\",index_col=0)\n",
    "val = pd.read_csv(\"./NLP_data/new_master/csv/new_master_val.csv\",index_col=0)\n",
    "test = pd.read_csv(\"./NLP_data/new_master/csv/new_master_test.csv\",index_col=0)"
   ]
  },
  {
   "cell_type": "code",
   "execution_count": 5,
   "metadata": {},
   "outputs": [
    {
     "name": "stdout",
     "output_type": "stream",
     "text": [
      "(94675, 7)\n",
      "(3106, 7)\n",
      "(3521, 7)\n"
     ]
    }
   ],
   "source": [
    "print(train.shape)\n",
    "print(val.shape)\n",
    "print(test.shape)"
   ]
  },
  {
   "cell_type": "code",
   "execution_count": 6,
   "metadata": {},
   "outputs": [],
   "source": [
    "def preprocess(text):\n",
    "    text = str(text)\n",
    "    text = text.lower()\n",
    "    doc = text.split(\"+\")\n",
    "    return doc"
   ]
  },
  {
   "cell_type": "code",
   "execution_count": 7,
   "metadata": {},
   "outputs": [],
   "source": [
    "def list2vec(l):\n",
    "    if len(l)==0:\n",
    "        nanvec = np.empty((300,), float)\n",
    "        nanvec.fill(np.nan)\n",
    "        return nanvec\n",
    "    nl = [model[w] if w in model.vocab else np.nan for w in l]\n",
    "    return np.nanmean(nl,axis=0)"
   ]
  },
  {
   "cell_type": "code",
   "execution_count": 8,
   "metadata": {},
   "outputs": [],
   "source": [
    "fu_train = open(\"train_uniquePhrases_new_master\",\"w\")\n",
    "fu_val = open(\"val_uniquePhrases_new_master\",\"w\")\n",
    "fu_test = open(\"test_uniquePhrases_new_master\",\"w\")"
   ]
  },
  {
   "cell_type": "code",
   "execution_count": 9,
   "metadata": {},
   "outputs": [],
   "source": [
    "phrase_train=list(set(train.phrase1.tolist()+train.phrase2.tolist()))\n",
    "phrase_test=list(set(test.phrase1.tolist()+test.phrase2.tolist()))\n",
    "phrase_val=list(set(val.phrase1.tolist()+val.phrase2.tolist()))"
   ]
  },
  {
   "cell_type": "code",
   "execution_count": 10,
   "metadata": {},
   "outputs": [
    {
     "name": "stdout",
     "output_type": "stream",
     "text": [
      "49179\n",
      "1975\n",
      "2058\n"
     ]
    }
   ],
   "source": [
    "print(len(phrase_train))\n",
    "print(len(phrase_val))\n",
    "print(len(phrase_test))"
   ]
  },
  {
   "cell_type": "code",
   "execution_count": 11,
   "metadata": {},
   "outputs": [],
   "source": [
    "for phrase in phrase_train:\n",
    "    fu_train.write(phrase+\"\\n\")"
   ]
  },
  {
   "cell_type": "code",
   "execution_count": 12,
   "metadata": {},
   "outputs": [],
   "source": [
    "for phrase in phrase_test:\n",
    "    fu_test.write(phrase+\"\\n\")"
   ]
  },
  {
   "cell_type": "code",
   "execution_count": 13,
   "metadata": {},
   "outputs": [],
   "source": [
    "for phrase in phrase_val:\n",
    "    fu_val.write(phrase+\"\\n\")"
   ]
  },
  {
   "cell_type": "code",
   "execution_count": 14,
   "metadata": {},
   "outputs": [],
   "source": [
    "fu_train.close()\n",
    "fu_test.close()\n",
    "fu_val.close()"
   ]
  },
  {
   "cell_type": "code",
   "execution_count": 15,
   "metadata": {},
   "outputs": [],
   "source": [
    "l2v_train = [list2vec(preprocess(phrase)) for phrase in phrase_train]\n",
    "l2v_test = [list2vec(preprocess(phrase)) for phrase in phrase_test]\n",
    "l2v_val = [list2vec(preprocess(phrase)) for phrase in phrase_val]"
   ]
  },
  {
   "cell_type": "code",
   "execution_count": 16,
   "metadata": {},
   "outputs": [],
   "source": [
    "l2v_train = np.array(l2v_train)\n",
    "l2v_val = np.array(l2v_val)\n",
    "l2v_test = np.array(l2v_test)"
   ]
  },
  {
   "cell_type": "code",
   "execution_count": 17,
   "metadata": {
    "scrolled": true
   },
   "outputs": [
    {
     "name": "stdout",
     "output_type": "stream",
     "text": [
      "(49179, 300)\n",
      "(1975, 300)\n",
      "(2058, 300)\n"
     ]
    }
   ],
   "source": [
    "print(l2v_train.shape)\n",
    "print(l2v_val.shape)\n",
    "print(l2v_test.shape)"
   ]
  },
  {
   "cell_type": "code",
   "execution_count": 18,
   "metadata": {},
   "outputs": [],
   "source": [
    "np.save('train_new_master.npy', l2v_train)\n",
    "np.save('test_new_master.npy', l2v_test)\n",
    "np.save('val_new_master.npy', l2v_val)"
   ]
  },
  {
   "cell_type": "code",
   "execution_count": null,
   "metadata": {},
   "outputs": [],
   "source": []
  }
 ],
 "metadata": {
  "kernelspec": {
   "display_name": "Python 3",
   "language": "python",
   "name": "python3"
  },
  "language_info": {
   "codemirror_mode": {
    "name": "ipython",
    "version": 3
   },
   "file_extension": ".py",
   "mimetype": "text/x-python",
   "name": "python",
   "nbconvert_exporter": "python",
   "pygments_lexer": "ipython3",
   "version": "3.6.6"
  }
 },
 "nbformat": 4,
 "nbformat_minor": 2
}
