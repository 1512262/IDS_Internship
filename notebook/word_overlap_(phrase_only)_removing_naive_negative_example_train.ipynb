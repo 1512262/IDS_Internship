{
 "cells": [
  {
   "cell_type": "code",
   "execution_count": 1,
   "metadata": {},
   "outputs": [],
   "source": [
    "import numpy as np\n",
    "import pandas as pd\n",
    "from sklearn.metrics import f1_score, precision_score, recall_score\n",
    "%matplotlib inline\n",
    "import matplotlib.pyplot as plt\n",
    "import seaborn as sns\n",
    "sns.set()"
   ]
  },
  {
   "cell_type": "code",
   "execution_count": 2,
   "metadata": {},
   "outputs": [],
   "source": [
    "def lang_iou(x, y):\n",
    "    x = set(x.split('+'))\n",
    "    y = set(y.split('+'))\n",
    "    inter = x.intersection(y)\n",
    "    union = x.union(y)\n",
    "    iou = len(inter) / len(union)\n",
    "    return iou"
   ]
  },
  {
   "cell_type": "code",
   "execution_count": 3,
   "metadata": {},
   "outputs": [
    {
     "name": "stderr",
     "output_type": "stream",
     "text": [
      "/home/khoa/anaconda3/envs/ids/lib/python3.6/site-packages/numpy/lib/arraysetops.py:522: FutureWarning: elementwise comparison failed; returning scalar instead, but in the future will perform elementwise comparison\n",
      "  mask |= (ar1 == a)\n"
     ]
    },
    {
     "data": {
      "text/plain": [
       "(2383741, 6)"
      ]
     },
     "execution_count": 3,
     "metadata": {},
     "output_type": "execute_result"
    }
   ],
   "source": [
    "data_train_link = './NLP_data/data_AAAI/phrase_pair_train.csv'\n",
    "df_train = pd.read_csv(data_train_link,index_col=0)\n",
    "df_train.shape\n"
   ]
  },
  {
   "cell_type": "code",
   "execution_count": 4,
   "metadata": {},
   "outputs": [],
   "source": [
    "p_ious = []\n",
    "for _, row in df_train.iterrows():\n",
    "    p_iou = lang_iou(row.phrase1, row.phrase2)\n",
    "    p_ious.append(p_iou)\n",
    "\n",
    "df_train['p_ious'] = np.asarray(p_ious)\n",
    "ious = list(set(df_train.p_ious.tolist())) \n",
    "ious.sort()"
   ]
  },
  {
   "cell_type": "code",
   "execution_count": 5,
   "metadata": {},
   "outputs": [
    {
     "name": "stdout",
     "output_type": "stream",
     "text": [
      "0.0 : 150962 2010631\n",
      "0.08333333333333333 : 0 2\n",
      "0.09090909090909091 : 1 2\n",
      "0.1 : 8 13\n",
      "0.1111111111111111 : 28 34\n",
      "0.125 : 71 151\n",
      "0.14285714285714285 : 326 506\n",
      "0.16666666666666666 : 1328 1697\n",
      "0.18181818181818182 : 1 1\n",
      "0.2 : 4981 4981\n",
      "0.2222222222222222 : 8 11\n",
      "0.25 : 17635 11927\n",
      "0.2857142857142857 : 101 78\n",
      "0.3333333333333333 : 49177 20179\n",
      "0.375 : 7 2\n",
      "0.4 : 1363 641\n",
      "0.42857142857142855 : 27 16\n",
      "0.4444444444444444 : 0 1\n",
      "0.5 : 74582 15894\n",
      "0.5555555555555556 : 0 1\n",
      "0.5714285714285714 : 9 7\n",
      "0.6 : 356 79\n",
      "0.625 : 0 2\n",
      "0.6666666666666666 : 12951 1587\n",
      "0.7142857142857143 : 5 1\n",
      "0.75 : 845 112\n",
      "0.8 : 47 10\n",
      "0.8333333333333334 : 8 2\n",
      "0.8571428571428571 : 3 2\n",
      "0.875 : 1 0\n",
      "1.0 : 226 114\n"
     ]
    }
   ],
   "source": [
    "for iou in ious:\n",
    "    len_true = len(df_train[(df_train.p_ious==iou)&(df_train.ytrue==True)].ytrue.tolist())\n",
    "    len_false = len(df_train[(df_train.p_ious==iou)&(df_train.ytrue==False)].ytrue.tolist())\n",
    "    print(iou,\":\",len_true,len_false)"
   ]
  },
  {
   "cell_type": "code",
   "execution_count": 6,
   "metadata": {
    "scrolled": true
   },
   "outputs": [],
   "source": [
    "for iou in ious:\n",
    "    len_true = len(df_train[(df_train.p_ious==iou)&(df_train.ytrue==True)].ytrue.tolist())\n",
    "    len_false = len(df_train[(df_train.p_ious==iou)&(df_train.ytrue==False)].ytrue.tolist())\n",
    "    index_True= df_train[(df_train.p_ious==iou)&(df_train.ytrue==True)].index.tolist()\n",
    "    index_False = df_train[(df_train.p_ious==iou)&(df_train.ytrue==False)].index.tolist()\n",
    "    n_drop = abs(len_false-len_true)\n",
    "    flag = True\n",
    "    if(len_true>len_false):\n",
    "        index= index_True\n",
    "    else:\n",
    "        index = index_False\n",
    "        flag = False\n",
    "    \n",
    "    drop_indices = np.random.choice(index, n_drop, replace=False)\n",
    "    df_train=df_train.drop(drop_indices)\n",
    "        "
   ]
  },
  {
   "cell_type": "code",
   "execution_count": 7,
   "metadata": {},
   "outputs": [
    {
     "name": "stdout",
     "output_type": "stream",
     "text": [
      "0.0 : 150962 150962\n",
      "0.08333333333333333 : 0 0\n",
      "0.09090909090909091 : 1 1\n",
      "0.1 : 8 8\n",
      "0.1111111111111111 : 28 28\n",
      "0.125 : 71 71\n",
      "0.14285714285714285 : 326 326\n",
      "0.16666666666666666 : 1328 1328\n",
      "0.18181818181818182 : 1 1\n",
      "0.2 : 4981 4981\n",
      "0.2222222222222222 : 8 8\n",
      "0.25 : 11927 11927\n",
      "0.2857142857142857 : 78 78\n",
      "0.3333333333333333 : 20179 20179\n",
      "0.375 : 2 2\n",
      "0.4 : 641 641\n",
      "0.42857142857142855 : 16 16\n",
      "0.4444444444444444 : 0 0\n",
      "0.5 : 15894 15894\n",
      "0.5555555555555556 : 0 0\n",
      "0.5714285714285714 : 7 7\n",
      "0.6 : 79 79\n",
      "0.625 : 0 0\n",
      "0.6666666666666666 : 1587 1587\n",
      "0.7142857142857143 : 1 1\n",
      "0.75 : 112 112\n",
      "0.8 : 10 10\n",
      "0.8333333333333334 : 2 2\n",
      "0.8571428571428571 : 2 2\n",
      "0.875 : 0 0\n",
      "1.0 : 114 114\n"
     ]
    }
   ],
   "source": [
    "for iou in ious:\n",
    "    len_true = len(df_train[(df_train.p_ious==iou)&(df_train.ytrue==True)].ytrue.tolist())\n",
    "    len_false = len(df_train[(df_train.p_ious==iou)&(df_train.ytrue==False)].ytrue.tolist())\n",
    "    print(iou,\":\",len_true,len_false)"
   ]
  },
  {
   "cell_type": "code",
   "execution_count": 8,
   "metadata": {},
   "outputs": [
    {
     "data": {
      "text/plain": [
       "(416730, 7)"
      ]
     },
     "execution_count": 8,
     "metadata": {},
     "output_type": "execute_result"
    }
   ],
   "source": [
    "df_train.shape"
   ]
  },
  {
   "cell_type": "code",
   "execution_count": 9,
   "metadata": {},
   "outputs": [],
   "source": [
    "from sklearn.utils import shuffle\n",
    "df_train = shuffle(df_train)"
   ]
  },
  {
   "cell_type": "code",
   "execution_count": 10,
   "metadata": {},
   "outputs": [],
   "source": [
    "df_train=df_train.sort_values(by=['image'])"
   ]
  },
  {
   "cell_type": "code",
   "execution_count": 11,
   "metadata": {},
   "outputs": [],
   "source": [
    "df_train=df_train.reset_index()"
   ]
  },
  {
   "cell_type": "code",
   "execution_count": 12,
   "metadata": {},
   "outputs": [],
   "source": [
    "df_train.to_csv(\"new_phrase_pair_train.csv\")"
   ]
  }
 ],
 "metadata": {
  "kernelspec": {
   "display_name": "Python 3",
   "language": "python",
   "name": "python3"
  },
  "language_info": {
   "codemirror_mode": {
    "name": "ipython",
    "version": 3
   },
   "file_extension": ".py",
   "mimetype": "text/x-python",
   "name": "python",
   "nbconvert_exporter": "python",
   "pygments_lexer": "ipython3",
   "version": "3.6.6"
  }
 },
 "nbformat": 4,
 "nbformat_minor": 2
}
