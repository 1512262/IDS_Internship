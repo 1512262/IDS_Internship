{
 "cells": [
  {
   "cell_type": "code",
   "execution_count": 1,
   "metadata": {},
   "outputs": [],
   "source": [
    "import gensim\n",
    "from gensim import utils\n",
    "import numpy as np\n",
    "import sys\n",
    "from nltk import word_tokenize\n",
    "from nltk import download\n",
    "from nltk.corpus import stopwords\n",
    "import matplotlib.pyplot as plt\n",
    "from sklearn.decomposition import PCA\n",
    "import pandas as pd\n",
    "%matplotlib inline"
   ]
  },
  {
   "cell_type": "code",
   "execution_count": 2,
   "metadata": {},
   "outputs": [],
   "source": [
    "model = gensim.models.KeyedVectors.load_word2vec_format('GoogleNews-vectors-negative300.bin.gz', binary=True)"
   ]
  },
  {
   "cell_type": "code",
   "execution_count": 3,
   "metadata": {},
   "outputs": [],
   "source": [
    "train = pd.read_csv(\"./NLP_data/master_train.csv\",index_col=0)\n",
    "val = pd.read_csv(\"./NLP_data/master_val.csv\",index_col=0)\n",
    "test = pd.read_csv(\"./NLP_data/master_test.csv\",index_col=0)"
   ]
  },
  {
   "cell_type": "code",
   "execution_count": 4,
   "metadata": {},
   "outputs": [
    {
     "name": "stdout",
     "output_type": "stream",
     "text": [
      "<class 'pandas.core.frame.DataFrame'>\n",
      "Int64Index: 123034 entries, 0 to 123033\n",
      "Data columns (total 6 columns):\n",
      "image               123034 non-null int64\n",
      "phrase1             123034 non-null object\n",
      "phrase2             123034 non-null object\n",
      "original_phrase1    123034 non-null object\n",
      "original_phrase2    123034 non-null object\n",
      "ytrue               123034 non-null bool\n",
      "dtypes: bool(1), int64(1), object(4)\n",
      "memory usage: 5.7+ MB\n",
      "None\n",
      "<class 'pandas.core.frame.DataFrame'>\n",
      "Int64Index: 4078 entries, 0 to 4077\n",
      "Data columns (total 6 columns):\n",
      "image               4078 non-null int64\n",
      "phrase1             4078 non-null object\n",
      "phrase2             4078 non-null object\n",
      "original_phrase1    4078 non-null object\n",
      "original_phrase2    4078 non-null object\n",
      "ytrue               4078 non-null bool\n",
      "dtypes: bool(1), int64(1), object(4)\n",
      "memory usage: 195.1+ KB\n",
      "None\n",
      "<class 'pandas.core.frame.DataFrame'>\n",
      "Int64Index: 4526 entries, 0 to 4525\n",
      "Data columns (total 6 columns):\n",
      "image               4526 non-null int64\n",
      "phrase1             4526 non-null object\n",
      "phrase2             4526 non-null object\n",
      "original_phrase1    4526 non-null object\n",
      "original_phrase2    4526 non-null object\n",
      "ytrue               4526 non-null bool\n",
      "dtypes: bool(1), int64(1), object(4)\n",
      "memory usage: 216.6+ KB\n",
      "None\n"
     ]
    }
   ],
   "source": [
    "print(train.info())\n",
    "print(val.info())\n",
    "print(test.info())"
   ]
  },
  {
   "cell_type": "code",
   "execution_count": 15,
   "metadata": {},
   "outputs": [],
   "source": [
    "def preprocess(text):\n",
    "    text = str(text)\n",
    "    text = text.lower()\n",
    "    doc = text.split(\"+\")\n",
    "    return doc"
   ]
  },
  {
   "cell_type": "code",
   "execution_count": 6,
   "metadata": {},
   "outputs": [],
   "source": [
    "def list2vec(l):\n",
    "    if len(l)==0:\n",
    "        nanvec = np.empty((300,), float)\n",
    "        nanvec.fill(np.nan)\n",
    "        return nanvec\n",
    "    nl = [model[w] if w in model.vocab else np.nan for w in l]\n",
    "    return np.nanmean(nl,axis=0)"
   ]
  },
  {
   "cell_type": "code",
   "execution_count": 29,
   "metadata": {},
   "outputs": [],
   "source": [
    "fu_train = open(\"train_uniquePhrases_master\",\"w\")\n",
    "fu_val = open(\"val_uniquePhrases_master\",\"w\")\n",
    "fu_test = open(\"test_uniquePhrases_master\",\"w\")"
   ]
  },
  {
   "cell_type": "code",
   "execution_count": 30,
   "metadata": {},
   "outputs": [],
   "source": [
    "phrase_train=list(set(train.phrase1.tolist()+train.phrase2.tolist()))\n",
    "phrase_test=list(set(test.phrase1.tolist()+test.phrase2.tolist()))\n",
    "phrase_val=list(set(val.phrase1.tolist()+val.phrase2.tolist()))"
   ]
  },
  {
   "cell_type": "code",
   "execution_count": 31,
   "metadata": {},
   "outputs": [
    {
     "name": "stdout",
     "output_type": "stream",
     "text": [
      "49574\n",
      "1988\n",
      "2076\n"
     ]
    }
   ],
   "source": [
    "print(len(phrase_train))\n",
    "print(len(phrase_val))\n",
    "print(len(phrase_test))"
   ]
  },
  {
   "cell_type": "code",
   "execution_count": 32,
   "metadata": {},
   "outputs": [],
   "source": [
    "for phrase in phrase_train:\n",
    "    fu_train.write(phrase+\"\\n\")"
   ]
  },
  {
   "cell_type": "code",
   "execution_count": 33,
   "metadata": {},
   "outputs": [],
   "source": [
    "for phrase in phrase_test:\n",
    "    fu_test.write(phrase+\"\\n\")"
   ]
  },
  {
   "cell_type": "code",
   "execution_count": 34,
   "metadata": {},
   "outputs": [],
   "source": [
    "for phrase in phrase_val:\n",
    "    fu_val.write(phrase+\"\\n\")"
   ]
  },
  {
   "cell_type": "code",
   "execution_count": 35,
   "metadata": {},
   "outputs": [],
   "source": [
    "fu_train.close()\n",
    "fu_test.close()\n",
    "fu_val.close()"
   ]
  },
  {
   "cell_type": "code",
   "execution_count": 36,
   "metadata": {},
   "outputs": [],
   "source": [
    "l2v_train = [list2vec(preprocess(phrase)) for phrase in phrase_train]\n",
    "l2v_test = [list2vec(preprocess(phrase)) for phrase in phrase_test]\n",
    "l2v_val = [list2vec(preprocess(phrase)) for phrase in phrase_val]"
   ]
  },
  {
   "cell_type": "code",
   "execution_count": 39,
   "metadata": {},
   "outputs": [],
   "source": [
    "l2v_train = np.array(l2v_train)\n",
    "l2v_val = np.array(l2v_val)\n",
    "l2v_test = np.array(l2v_test)"
   ]
  },
  {
   "cell_type": "code",
   "execution_count": 41,
   "metadata": {
    "scrolled": true
   },
   "outputs": [
    {
     "name": "stdout",
     "output_type": "stream",
     "text": [
      "(49574, 300)\n",
      "(1988, 300)\n",
      "(2076, 300)\n"
     ]
    }
   ],
   "source": [
    "print(l2v_train.shape)\n",
    "print(l2v_val.shape)\n",
    "print(l2v_test.shape)"
   ]
  },
  {
   "cell_type": "code",
   "execution_count": 42,
   "metadata": {},
   "outputs": [],
   "source": [
    "np.save('train_master.npy', l2v_train)\n",
    "np.save('test_master.npy', l2v_test)\n",
    "np.save('val_master.npy', l2v_val)"
   ]
  },
  {
   "cell_type": "code",
   "execution_count": null,
   "metadata": {},
   "outputs": [],
   "source": []
  }
 ],
 "metadata": {
  "kernelspec": {
   "display_name": "Python 3",
   "language": "python",
   "name": "python3"
  },
  "language_info": {
   "codemirror_mode": {
    "name": "ipython",
    "version": 3
   },
   "file_extension": ".py",
   "mimetype": "text/x-python",
   "name": "python",
   "nbconvert_exporter": "python",
   "pygments_lexer": "ipython3",
   "version": "3.6.7"
  }
 },
 "nbformat": 4,
 "nbformat_minor": 2
}
