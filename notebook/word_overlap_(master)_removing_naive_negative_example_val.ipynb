{
 "cells": [
  {
   "cell_type": "code",
   "execution_count": 1,
   "metadata": {},
   "outputs": [],
   "source": [
    "import numpy as np\n",
    "import pandas as pd\n",
    "from sklearn.metrics import f1_score, precision_score, recall_score\n",
    "%matplotlib inline\n",
    "import matplotlib.pyplot as plt\n",
    "import seaborn as sns\n",
    "sns.set()"
   ]
  },
  {
   "cell_type": "code",
   "execution_count": 2,
   "metadata": {},
   "outputs": [],
   "source": [
    "def lang_iou(x, y):\n",
    "    x = set(x.split('+'))\n",
    "    y = set(y.split('+'))\n",
    "    inter = x.intersection(y)\n",
    "    union = x.union(y)\n",
    "    iou = len(inter) / len(union)\n",
    "    return iou"
   ]
  },
  {
   "cell_type": "code",
   "execution_count": 3,
   "metadata": {},
   "outputs": [
    {
     "data": {
      "text/plain": [
       "(4078, 6)"
      ]
     },
     "execution_count": 3,
     "metadata": {},
     "output_type": "execute_result"
    }
   ],
   "source": [
    "data_train_link = './NLP_data/master/csv/master_val.csv'\n",
    "df_train = pd.read_csv(data_train_link,index_col=0)\n",
    "df_train.shape\n"
   ]
  },
  {
   "cell_type": "code",
   "execution_count": 4,
   "metadata": {},
   "outputs": [],
   "source": [
    "p_ious = []\n",
    "for _, row in df_train.iterrows():\n",
    "    p_iou = lang_iou(row.phrase1, row.phrase2)\n",
    "    p_ious.append(p_iou)\n",
    "\n",
    "df_train['p_ious'] = np.asarray(p_ious)\n",
    "ious = list(set(df_train.p_ious.tolist())) \n",
    "ious.sort()"
   ]
  },
  {
   "cell_type": "code",
   "execution_count": 5,
   "metadata": {},
   "outputs": [
    {
     "name": "stdout",
     "output_type": "stream",
     "text": [
      "0.0 : 95 936\n",
      "0.08333333333333333 : 0 1\n",
      "0.09090909090909091 : 0 6\n",
      "0.1 : 12 29\n",
      "0.1111111111111111 : 12 68\n",
      "0.125 : 50 162\n",
      "0.14285714285714285 : 68 214\n",
      "0.16666666666666666 : 81 334\n",
      "0.18181818181818182 : 2 1\n",
      "0.2 : 103 315\n",
      "0.2222222222222222 : 18 20\n",
      "0.25 : 70 189\n",
      "0.2727272727272727 : 1 0\n",
      "0.2857142857142857 : 69 82\n",
      "0.3 : 2 2\n",
      "0.3333333333333333 : 111 113\n",
      "0.36363636363636365 : 0 2\n",
      "0.375 : 18 15\n",
      "0.4 : 125 66\n",
      "0.42857142857142855 : 32 17\n",
      "0.4444444444444444 : 2 0\n",
      "0.5 : 182 40\n",
      "0.5555555555555556 : 1 0\n",
      "0.5714285714285714 : 9 3\n",
      "0.6 : 81 14\n",
      "0.6666666666666666 : 71 7\n",
      "0.7142857142857143 : 0 1\n",
      "0.75 : 69 6\n",
      "0.8 : 30 2\n",
      "0.8333333333333334 : 3 2\n",
      "1.0 : 111 3\n"
     ]
    }
   ],
   "source": [
    "for iou in ious:\n",
    "    len_true = len(df_train[(df_train.p_ious==iou)&(df_train.ytrue==True)].ytrue.tolist())\n",
    "    len_false = len(df_train[(df_train.p_ious==iou)&(df_train.ytrue==False)].ytrue.tolist())\n",
    "    print(iou,\":\",len_true,len_false)"
   ]
  },
  {
   "cell_type": "code",
   "execution_count": 6,
   "metadata": {
    "scrolled": true
   },
   "outputs": [],
   "source": [
    "for iou in ious:\n",
    "    len_true = len(df_train[(df_train.p_ious==iou)&(df_train.ytrue==True)].ytrue.tolist())\n",
    "    len_false = len(df_train[(df_train.p_ious==iou)&(df_train.ytrue==False)].ytrue.tolist())\n",
    "    index_True= df_train[(df_train.p_ious==iou)&(df_train.ytrue==True)].index.tolist()\n",
    "    index_False = df_train[(df_train.p_ious==iou)&(df_train.ytrue==False)].index.tolist()\n",
    "    n_drop = abs(len_false-len_true)\n",
    "    flag = True\n",
    "    if(len_true>len_false):\n",
    "        index= index_True\n",
    "    else:\n",
    "        index = index_False\n",
    "        flag = False\n",
    "    \n",
    "    drop_indices = np.random.choice(index, n_drop, replace=False)\n",
    "    df_train=df_train.drop(drop_indices)\n",
    "        "
   ]
  },
  {
   "cell_type": "code",
   "execution_count": 7,
   "metadata": {},
   "outputs": [
    {
     "name": "stdout",
     "output_type": "stream",
     "text": [
      "0.0 : 95 95\n",
      "0.08333333333333333 : 0 0\n",
      "0.09090909090909091 : 0 0\n",
      "0.1 : 12 12\n",
      "0.1111111111111111 : 12 12\n",
      "0.125 : 50 50\n",
      "0.14285714285714285 : 68 68\n",
      "0.16666666666666666 : 81 81\n",
      "0.18181818181818182 : 1 1\n",
      "0.2 : 103 103\n",
      "0.2222222222222222 : 18 18\n",
      "0.25 : 70 70\n",
      "0.2727272727272727 : 0 0\n",
      "0.2857142857142857 : 69 69\n",
      "0.3 : 2 2\n",
      "0.3333333333333333 : 111 111\n",
      "0.36363636363636365 : 0 0\n",
      "0.375 : 15 15\n",
      "0.4 : 66 66\n",
      "0.42857142857142855 : 17 17\n",
      "0.4444444444444444 : 0 0\n",
      "0.5 : 40 40\n",
      "0.5555555555555556 : 0 0\n",
      "0.5714285714285714 : 3 3\n",
      "0.6 : 14 14\n",
      "0.6666666666666666 : 7 7\n",
      "0.7142857142857143 : 0 0\n",
      "0.75 : 6 6\n",
      "0.8 : 2 2\n",
      "0.8333333333333334 : 2 2\n",
      "1.0 : 3 3\n"
     ]
    }
   ],
   "source": [
    "for iou in ious:\n",
    "    len_true = len(df_train[(df_train.p_ious==iou)&(df_train.ytrue==True)].ytrue.tolist())\n",
    "    len_false = len(df_train[(df_train.p_ious==iou)&(df_train.ytrue==False)].ytrue.tolist())\n",
    "    print(iou,\":\",len_true,len_false)"
   ]
  },
  {
   "cell_type": "code",
   "execution_count": 8,
   "metadata": {},
   "outputs": [
    {
     "data": {
      "text/plain": [
       "(1734, 7)"
      ]
     },
     "execution_count": 8,
     "metadata": {},
     "output_type": "execute_result"
    }
   ],
   "source": [
    "df_train.shape"
   ]
  },
  {
   "cell_type": "code",
   "execution_count": 9,
   "metadata": {},
   "outputs": [],
   "source": [
    "from sklearn.utils import shuffle\n",
    "df_train = shuffle(df_train)"
   ]
  },
  {
   "cell_type": "code",
   "execution_count": 10,
   "metadata": {},
   "outputs": [],
   "source": [
    "df_train=df_train.sort_values(by=['image'])"
   ]
  },
  {
   "cell_type": "code",
   "execution_count": 11,
   "metadata": {},
   "outputs": [],
   "source": [
    "df_train=df_train.reset_index()"
   ]
  },
  {
   "cell_type": "code",
   "execution_count": 12,
   "metadata": {},
   "outputs": [],
   "source": [
    "df_train.to_csv(\"new_master_val.csv\")"
   ]
  },
  {
   "cell_type": "code",
   "execution_count": null,
   "metadata": {},
   "outputs": [],
   "source": []
  }
 ],
 "metadata": {
  "kernelspec": {
   "display_name": "Python 3",
   "language": "python",
   "name": "python3"
  },
  "language_info": {
   "codemirror_mode": {
    "name": "ipython",
    "version": 3
   },
   "file_extension": ".py",
   "mimetype": "text/x-python",
   "name": "python",
   "nbconvert_exporter": "python",
   "pygments_lexer": "ipython3",
   "version": "3.6.6"
  }
 },
 "nbformat": 4,
 "nbformat_minor": 2
}
